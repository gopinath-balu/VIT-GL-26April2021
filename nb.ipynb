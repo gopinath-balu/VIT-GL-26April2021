{
 "cells": [
  {
   "cell_type": "markdown",
   "id": "ba2f6bc5",
   "metadata": {
    "slideshow": {
     "slide_type": "slide"
    }
   },
   "source": [
    "<img align='centre' src=\"assets/img/hello-world.png\" alt=\"ml\" title=\"ml\"/>\n"
   ]
  },
  {
   "cell_type": "markdown",
   "id": "fbe2bc94",
   "metadata": {
    "slideshow": {
     "slide_type": "slide"
    }
   },
   "source": [
    "<img align='centre' src=\"assets/img/title.png\" alt=\"ml\" title=\"ml\"/>"
   ]
  },
  {
   "cell_type": "markdown",
   "id": "027df730",
   "metadata": {
    "cell_style": "center",
    "slideshow": {
     "slide_type": "subslide"
    }
   },
   "source": [
    "<img align=\"left\" src=\"assets/img/about-myself.png\" alt=\"Gopi\" title=\"Gopi\" width=\"600\" height=\"100\" />\n",
    "\n",
    "<img align=\"right\" src=\"assets/img/gopi.jpg\" alt=\"Gopi\" title=\"Gopi\" width=\"250\" height=\"100\" />"
   ]
  },
  {
   "cell_type": "markdown",
   "id": "219062a4",
   "metadata": {
    "slideshow": {
     "slide_type": "slide"
    }
   },
   "source": [
    "<img align='centre' src=\"assets/img/agenda.png\" alt=\"ml\" title=\"ml\"/>\n"
   ]
  },
  {
   "cell_type": "markdown",
   "id": "04ef9a01",
   "metadata": {
    "slideshow": {
     "slide_type": "subslide"
    }
   },
   "source": [
    "<img align='centre' src=\"assets/img/more-myself.png\" alt=\"ml\" title=\"ml\"/>\n"
   ]
  },
  {
   "cell_type": "markdown",
   "id": "8412ca0b",
   "metadata": {
    "cell_style": "center",
    "slideshow": {
     "slide_type": "fragment"
    }
   },
   "source": [
    "<br>\n",
    "<img align='centre' src=\"assets/img/ml_everywhere.jpeg\" alt=\"ml\" title=\"ml\"/>\n",
    "<br>"
   ]
  },
  {
   "cell_type": "markdown",
   "id": "f39f342f",
   "metadata": {
    "slideshow": {
     "slide_type": "subslide"
    }
   },
   "source": [
    "<img align='centre' src=\"assets/img/ml-applications.png\" alt=\"ml\" title=\"ml\"/>"
   ]
  },
  {
   "cell_type": "markdown",
   "id": "adc0732a",
   "metadata": {
    "cell_style": "center",
    "slideshow": {
     "slide_type": "subslide"
    }
   },
   "source": [
    "### And more importantly, \n",
    "\n",
    "<img align='centre' src=\"assets/img/nasscom-report.png\" alt=\"ml\" title=\"ml\"/>\n",
    "\n",
    "[source: Nasscom](https://nasscom.in/knowledge-center/publications/talent-demand-supply-report-ai-big-data-analytics)"
   ]
  },
  {
   "cell_type": "markdown",
   "id": "f4531f91",
   "metadata": {
    "slideshow": {
     "slide_type": "skip"
    }
   },
   "source": [
    "<img align=\"centre\" src=\"assets/img/gartnar-report.png\" alt=\"ml\" title=\"ml\" width=\"900\" height=\"600\"/>\n",
    "\n",
    "[source: Gartner](https://www.gartner.com/en/newsroom/press-releases/03-18-2020-gartner-says-strongest-demand-for-ai-talent-comes-from-non-it-departments)"
   ]
  },
  {
   "cell_type": "markdown",
   "id": "588b5c9a",
   "metadata": {
    "slideshow": {
     "slide_type": "skip"
    }
   },
   "source": [
    "<img align=\"centre\" src=\"assets/img/post-covid-demand.png\" alt=\"ml\" title=\"ml\" width=\"1000\" height=\"800\"/>\n",
    "\n",
    "[source: AnalyticsIndiaMag](https://analyticsindiamag.com/ai-ml-remains-the-most-in-demand-tech-skill-post-covid/)"
   ]
  },
  {
   "cell_type": "markdown",
   "id": "cb137ea5",
   "metadata": {
    "slideshow": {
     "slide_type": "subslide"
    }
   },
   "source": [
    "<img align=\"centre\" src=\"assets/img/ml-salary.png\" alt=\"ml\" title=\"ml\" width=\"900\" height=\"600\"/>\n",
    "\n",
    "[source: UpGrad](https://www.upgrad.com/blog/machine-learning-engineer-salary-in-india-freshers-experienced/)"
   ]
  },
  {
   "cell_type": "markdown",
   "id": "4e99dea3",
   "metadata": {
    "slideshow": {
     "slide_type": "subslide"
    }
   },
   "source": [
    "## You are not convinced yet ??"
   ]
  },
  {
   "cell_type": "markdown",
   "id": "1b30a424",
   "metadata": {
    "slideshow": {
     "slide_type": "slide"
    }
   },
   "source": [
    "<div align='center'> <h1> What is Machine Learning ? </h1> </div>"
   ]
  },
  {
   "cell_type": "markdown",
   "id": "22e6fb0e",
   "metadata": {
    "slideshow": {
     "slide_type": "fragment"
    }
   },
   "source": [
    "<img align=\"center\" src=\"assets/img/ml-def.png\" alt=\"ml\" title=\"ml\" width=\"700\" height=\"500\"/>"
   ]
  },
  {
   "cell_type": "markdown",
   "id": "b2123632",
   "metadata": {
    "slideshow": {
     "slide_type": "subslide"
    }
   },
   "source": [
    "<img align=\"centre\" src=\"assets/img/ml-simple-terms.png\" alt=\"ml\" title=\"ml\" width=\"900\" height=\"900\"/>"
   ]
  },
  {
   "cell_type": "markdown",
   "id": "6f6dd181",
   "metadata": {
    "slideshow": {
     "slide_type": "subslide"
    }
   },
   "source": [
    "<img align=\"centre\" src=\"assets/img/ml-def-brief.png\" alt=\"ml\" title=\"ml\" width=\"900\" height=\"900\"/>"
   ]
  },
  {
   "cell_type": "markdown",
   "id": "4113b183",
   "metadata": {
    "slideshow": {
     "slide_type": "subslide"
    }
   },
   "source": [
    "## Breaking the Jargons."
   ]
  },
  {
   "cell_type": "markdown",
   "id": "997bae87",
   "metadata": {
    "slideshow": {
     "slide_type": "subslide"
    }
   },
   "source": [
    "<img align=\"centre\" src=\"assets/img/jargons-1.png\" alt=\"ml\" title=\"ml\" width=\"900\" height=\"900\"/>"
   ]
  },
  {
   "cell_type": "markdown",
   "id": "4459ca09",
   "metadata": {
    "slideshow": {
     "slide_type": "subslide"
    }
   },
   "source": [
    "<img align=\"centre\" src=\"assets/img/jargons-2.png\" alt=\"ml\" title=\"ml\" width=\"900\" height=\"900\"/>"
   ]
  },
  {
   "cell_type": "markdown",
   "id": "6bba1ff6",
   "metadata": {},
   "source": [
    "<img align=\"centre\" src=\"assets/img/jargons-3.png\" alt=\"ml\" title=\"ml\" width=\"900\" height=\"900\"/>"
   ]
  },
  {
   "cell_type": "markdown",
   "id": "6db86449",
   "metadata": {},
   "source": [
    "## Boring theory, sorry about it. Hang on for a while !"
   ]
  },
  {
   "cell_type": "markdown",
   "id": "33bdc77d",
   "metadata": {
    "slideshow": {
     "slide_type": "subslide"
    }
   },
   "source": [
    "<img align=\"centre\" src=\"assets/img/types-of-ml.png\" alt=\"ml\" title=\"ml\" width=\"900\" height=\"900\"/>"
   ]
  },
  {
   "cell_type": "markdown",
   "id": "8a2c93a2",
   "metadata": {
    "slideshow": {
     "slide_type": "subslide"
    }
   },
   "source": [
    "<img align=\"centre\" src=\"assets/img/supervised.png\" alt=\"ml\" title=\"ml\" width=\"900\" height=\"900\"/>"
   ]
  },
  {
   "cell_type": "markdown",
   "id": "81659de0",
   "metadata": {
    "slideshow": {
     "slide_type": "subslide"
    }
   },
   "source": [
    "<img align=\"centre\" src=\"assets/img/supervised-problems.png\" alt=\"ml\" title=\"ml\" width=\"900\" height=\"900\"/>"
   ]
  },
  {
   "cell_type": "markdown",
   "id": "2aa5e8c9",
   "metadata": {
    "slideshow": {
     "slide_type": "subslide"
    }
   },
   "source": [
    "<img align=\"centre\" src=\"assets/img/unsupervised.png\" alt=\"ml\" title=\"ml\" width=\"900\" height=\"900\"/>"
   ]
  },
  {
   "cell_type": "markdown",
   "id": "386cc8c5",
   "metadata": {
    "slideshow": {
     "slide_type": "subslide"
    }
   },
   "source": [
    "<img align=\"centre\" src=\"assets/img/unsupervised-problems.png\" alt=\"ml\" title=\"ml\" width=\"900\" height=\"900\"/>"
   ]
  },
  {
   "cell_type": "markdown",
   "id": "294c1e69",
   "metadata": {
    "slideshow": {
     "slide_type": "subslide"
    }
   },
   "source": [
    "<img align=\"centre\" src=\"assets/img/reinforcement.png\" alt=\"ml\" title=\"ml\" width=\"900\" height=\"900\"/>"
   ]
  },
  {
   "cell_type": "markdown",
   "id": "46d36b79",
   "metadata": {
    "slideshow": {
     "slide_type": "slide"
    }
   },
   "source": [
    "<div> <h2> Talk is cheap, show me the code. </h2> </div>  \n",
    "<div> <pre> <h3> - Linus Torvalds </h3> </pre> </div>  "
   ]
  },
  {
   "cell_type": "markdown",
   "id": "0f5f1400",
   "metadata": {
    "slideshow": {
     "slide_type": "slide"
    }
   },
   "source": [
    "<div> <p> <h3> Classifying Coronary Heart Disease using <span style=\"color:#0000A0\"> Logistic Regression</span>. </h3> </p> </div>"
   ]
  },
  {
   "cell_type": "code",
   "execution_count": null,
   "id": "95241754",
   "metadata": {
    "slideshow": {
     "slide_type": "subslide"
    }
   },
   "outputs": [],
   "source": [
    "# import the libraries\n",
    "import pandas as pd\n",
    "import matplotlib.pyplot as plt\n",
    "import seaborn as sns\n",
    "import numpy as np\n",
    "from sklearn.impute import KNNImputer\n",
    "%matplotlib inline"
   ]
  },
  {
   "cell_type": "code",
   "execution_count": null,
   "id": "c1a40dd2",
   "metadata": {
    "slideshow": {
     "slide_type": "subslide"
    }
   },
   "outputs": [],
   "source": [
    "# load the csv data file\n",
    "file_path = \"data/framingham.csv\"\n",
    "data_df = pd.read_csv(file_path)\n",
    "data_df.head()"
   ]
  },
  {
   "cell_type": "code",
   "execution_count": null,
   "id": "356f80db",
   "metadata": {
    "slideshow": {
     "slide_type": "subslide"
    }
   },
   "outputs": [],
   "source": [
    "data_df.describe()"
   ]
  },
  {
   "cell_type": "code",
   "execution_count": null,
   "id": "8fc2b6f7",
   "metadata": {
    "slideshow": {
     "slide_type": "subslide"
    }
   },
   "outputs": [],
   "source": [
    "# check null column value counts\n",
    "null_values = data_df.isnull().sum()\n",
    "null_summary = null_values[null_values > 0]\n",
    "null_summary"
   ]
  },
  {
   "cell_type": "code",
   "execution_count": null,
   "id": "e73ae08a",
   "metadata": {
    "slideshow": {
     "slide_type": "subslide"
    }
   },
   "outputs": [],
   "source": [
    "# verify data types of features which has missing values\n",
    "null_columns = data_df[data_df.columns[null_values > 0]]\n",
    "null_columns.dtypes"
   ]
  },
  {
   "cell_type": "code",
   "execution_count": null,
   "id": "a0422242",
   "metadata": {
    "slideshow": {
     "slide_type": "subslide"
    }
   },
   "outputs": [],
   "source": [
    "# Impute missing values using K-Nearest Neighbours\n",
    "col_names = data_df.columns\n",
    "for feature in col_names:\n",
    "    data_df[feature+\" nan\"] = np.where(data_df[feature].isnull(),1,0)\n",
    "\n",
    "imputer = KNNImputer(n_neighbors=3)\n",
    "imp_data_df = imputer.fit_transform(data_df)\n",
    "imp_data_df = pd.DataFrame(imp_data_df, columns=data_df.columns)\n",
    "imp_data_df.head(10)"
   ]
  },
  {
   "cell_type": "code",
   "execution_count": null,
   "id": "a01c399f",
   "metadata": {
    "slideshow": {
     "slide_type": "subslide"
    }
   },
   "outputs": [],
   "source": [
    "# verify null impute and remove nan impute helper columns\n",
    "glucose_null_indices = data_df[data_df['glucose nan'] == 1].index\n",
    "glucose_null_top5 = glucose_null_indices[:5]\n",
    "glucose_null_top5"
   ]
  },
  {
   "cell_type": "code",
   "execution_count": null,
   "id": "d851860c",
   "metadata": {
    "slideshow": {
     "slide_type": "subslide"
    }
   },
   "outputs": [],
   "source": [
    "imp_data_df.loc[glucose_null_top5][['glucose', 'glucose nan']]"
   ]
  },
  {
   "cell_type": "code",
   "execution_count": null,
   "id": "9b15c96b",
   "metadata": {
    "slideshow": {
     "slide_type": "subslide"
    }
   },
   "outputs": [],
   "source": [
    "# remove the nan impute helper columns\n",
    "nan_helper_cols = list(imp_data_df.filter(regex='nan'))\n",
    "nan_helper_cols"
   ]
  },
  {
   "cell_type": "code",
   "execution_count": null,
   "id": "413175ca",
   "metadata": {
    "slideshow": {
     "slide_type": "subslide"
    }
   },
   "outputs": [],
   "source": [
    "imp_data_df = imp_data_df[imp_data_df.columns.drop(nan_helper_cols)]"
   ]
  },
  {
   "cell_type": "code",
   "execution_count": null,
   "id": "9ae32ddd",
   "metadata": {
    "slideshow": {
     "slide_type": "subslide"
    }
   },
   "outputs": [],
   "source": [
    "# check for null again\n",
    "imp_data_df.isnull().sum()\n"
   ]
  },
  {
   "cell_type": "code",
   "execution_count": null,
   "id": "1943e881",
   "metadata": {
    "scrolled": true,
    "slideshow": {
     "slide_type": "subslide"
    }
   },
   "outputs": [],
   "source": [
    "# remove the outlier\n",
    "numeric_columns = imp_data_df.select_dtypes(exclude=\"O\")\n",
    "\n",
    "for feature in numeric_columns:\n",
    "    q1 = imp_data_df[feature].quantile(0.05)\n",
    "    q3 = imp_data_df[feature].quantile(0.95)\n",
    "    iqr = q3-q1\n",
    "    Lower_tail = q1 - 1.5 * iqr\n",
    "    Upper_tail = q3 + 1.5 * iqr\n",
    "    med = np.mean(imp_data_df[feature])\n",
    "    for i in imp_data_df[feature]:\n",
    "        if i > Upper_tail or i < Lower_tail:\n",
    "                imp_data_df[feature] = imp_data_df[feature].replace(i, med)"
   ]
  },
  {
   "cell_type": "markdown",
   "id": "1a232c9d",
   "metadata": {
    "slideshow": {
     "slide_type": "subslide"
    }
   },
   "source": [
    "#### Relationship between education and cigsPerDay"
   ]
  },
  {
   "cell_type": "code",
   "execution_count": null,
   "id": "3ccf8da8",
   "metadata": {
    "slideshow": {
     "slide_type": "fragment"
    }
   },
   "outputs": [],
   "source": [
    "graph_1 = imp_data_df.groupby(\"education\", as_index=False).cigsPerDay.mean()"
   ]
  },
  {
   "cell_type": "code",
   "execution_count": null,
   "id": "ec5aee66",
   "metadata": {
    "slideshow": {
     "slide_type": "subslide"
    }
   },
   "outputs": [],
   "source": [
    "plt.figure(figsize=(10,8))\n",
    "sns.regplot(x=graph_1[\"education\"], y=graph_1[\"cigsPerDay\"])\n",
    "plt.title(\"Graph showing cigsPerDay in every level of education.\")\n",
    "plt.xlabel(\"education\", size=20)\n",
    "plt.ylabel(\"cigsPerDay\", size=20)\n",
    "plt.xticks(size=12)\n",
    "plt.yticks(size=12)\n",
    "plt.show()"
   ]
  },
  {
   "cell_type": "markdown",
   "id": "6b1b0ca4",
   "metadata": {
    "slideshow": {
     "slide_type": "subslide"
    }
   },
   "source": [
    "#### Relationship between age and cigsPerDay, totChol, glucose."
   ]
  },
  {
   "cell_type": "code",
   "execution_count": null,
   "id": "5fa8de02",
   "metadata": {
    "slideshow": {
     "slide_type": "subslide"
    }
   },
   "outputs": [],
   "source": [
    "\n",
    "graph_3 = imp_data_df.groupby(\"age\").cigsPerDay.mean()\n",
    "graph_4 = imp_data_df.groupby(\"age\").totChol.mean()\n",
    "graph_5 = imp_data_df.groupby(\"age\").glucose.mean()\n",
    "\n",
    "plt.figure(figsize=(12,8))\n",
    "sns.lineplot(data=graph_3, label=\"cigsPerDay\")\n",
    "sns.lineplot(data=graph_4, label=\"totChol\")\n",
    "sns.lineplot(data=graph_5, label=\"glucose\")\n",
    "plt.title(\"Graph showing totChol and cigsPerDay in every age group.\")\n",
    "plt.xlabel(\"age\", size=20)\n",
    "plt.ylabel(\"count\", size=20)\n",
    "plt.xticks(size=12)\n",
    "plt.yticks(size=12)\n",
    "plt.show()"
   ]
  },
  {
   "cell_type": "markdown",
   "id": "0dee5c12",
   "metadata": {
    "slideshow": {
     "slide_type": "subslide"
    }
   },
   "source": [
    "#### Which gender has more risk of coronary heart disease CHD"
   ]
  },
  {
   "cell_type": "code",
   "execution_count": null,
   "id": "999f6656",
   "metadata": {
    "slideshow": {
     "slide_type": "subslide"
    }
   },
   "outputs": [],
   "source": [
    "#checking for which gender has more risk of coronary heart disease CHD\n",
    "\n",
    "graph_6 = imp_data_df.groupby(\"male\", as_index=False).TenYearCHD.sum()"
   ]
  },
  {
   "cell_type": "code",
   "execution_count": null,
   "id": "4a061693",
   "metadata": {
    "slideshow": {
     "slide_type": "subslide"
    }
   },
   "outputs": [],
   "source": [
    "plt.figure(figsize=(12,8))\n",
    "sns.barplot(x=graph_6[\"male\"], y=graph_6[\"TenYearCHD\"])\n",
    "plt.title(\"Graph showing which gender has more risk of coronary heart disease CHD\")\n",
    "plt.xlabel(\"0 is female and 1 is male\",size=20)\n",
    "plt.ylabel(\"total cases\", size=20)\n",
    "plt.xticks(size=12)\n",
    "plt.yticks(size=12)\n",
    "plt.show()"
   ]
  },
  {
   "cell_type": "markdown",
   "id": "a8111c8e",
   "metadata": {
    "slideshow": {
     "slide_type": "subslide"
    }
   },
   "source": [
    "#### Which age group has more smokers.\n",
    "\n"
   ]
  },
  {
   "cell_type": "code",
   "execution_count": null,
   "id": "2f29799d",
   "metadata": {
    "slideshow": {
     "slide_type": "subslide"
    }
   },
   "outputs": [],
   "source": [
    "#grouping the necessary features\n",
    "\n",
    "graph_7 = imp_data_df.groupby(\"age\",as_index=False).currentSmoker.sum()\n",
    "\n",
    "plt.figure(figsize=(16,8))\n",
    "sns.barplot(x=graph_7[\"age\"].astype(int), y=graph_7[\"currentSmoker\"])\n",
    "plt.title(\"Graph showing which age group has more smokers.\")\n",
    "plt.xlabel(\"age\", size=20)\n",
    "plt.ylabel(\"currentSmokers\", size=20)\n",
    "plt.xticks(size=12)\n",
    "plt.yticks(size=12)\n",
    "plt.show()"
   ]
  },
  {
   "cell_type": "markdown",
   "id": "5bb33a15",
   "metadata": {
    "slideshow": {
     "slide_type": "subslide"
    }
   },
   "source": [
    "#### Relation between cigsPerDay and risk of coronary heart disease.\n"
   ]
  },
  {
   "cell_type": "code",
   "execution_count": null,
   "id": "ab3d5284",
   "metadata": {
    "slideshow": {
     "slide_type": "subslide"
    }
   },
   "outputs": [],
   "source": [
    "graph_8 = imp_data_df.groupby(\"TenYearCHD\", as_index=False).cigsPerDay.mean()\n",
    "\n",
    "plt.figure(figsize=(12,8))\n",
    "sns.barplot(x=graph_8[\"TenYearCHD\"], y=graph_8[\"cigsPerDay\"])\n",
    "plt.title(\"Graph showing the relation between cigsPerDay and risk of coronary heart disease.\")\n",
    "plt.xlabel(\"Rick of CHD\", size=20)\n",
    "plt.ylabel(\"cigsPerDay\", size=20)\n",
    "plt.xticks(size=12)\n",
    "plt.yticks(size=12)\n",
    "plt.show()"
   ]
  },
  {
   "cell_type": "markdown",
   "id": "3be648cf",
   "metadata": {
    "slideshow": {
     "slide_type": "subslide"
    }
   },
   "source": [
    "#### Relation between sysBP and risk of CHD.\n",
    "\n"
   ]
  },
  {
   "cell_type": "code",
   "execution_count": null,
   "id": "00f55bfd",
   "metadata": {
    "slideshow": {
     "slide_type": "subslide"
    }
   },
   "outputs": [],
   "source": [
    "\n",
    "graph_9 = imp_data_df.groupby(\"TenYearCHD\", as_index=False).sysBP.mean()\n",
    "\n",
    "plt.figure(figsize=(12,8))\n",
    "sns.barplot(x=graph_9[\"TenYearCHD\"], y=graph_9[\"sysBP\"])\n",
    "plt.title(\"Graph showing the relation between sysBP and risk of CHD\")\n",
    "plt.xlabel(\"Rick of CHD\", size=20)\n",
    "plt.ylabel(\"sysBP\", size=20)\n",
    "plt.xticks(size=12)\n",
    "plt.yticks(size=12)\n",
    "plt.show()"
   ]
  },
  {
   "cell_type": "markdown",
   "id": "7e64228b",
   "metadata": {
    "slideshow": {
     "slide_type": "subslide"
    }
   },
   "source": [
    "## Modelling"
   ]
  },
  {
   "cell_type": "code",
   "execution_count": null,
   "id": "84984007",
   "metadata": {
    "slideshow": {
     "slide_type": "subslide"
    }
   },
   "outputs": [],
   "source": [
    "from sklearn.linear_model import LogisticRegression\n",
    "from sklearn.model_selection import train_test_split\n",
    "from sklearn import preprocessing"
   ]
  },
  {
   "cell_type": "code",
   "execution_count": null,
   "id": "c6f50ca0",
   "metadata": {
    "slideshow": {
     "slide_type": "subslide"
    }
   },
   "outputs": [],
   "source": [
    "# collecting the features in X\n",
    "X = imp_data_df.drop(columns=[\"TenYearCHD\"])\n",
    "\n",
    "# y is the target variable (risk of CHD)\n",
    "y = imp_data_df[\"TenYearCHD\"]\n",
    "\n",
    "train_X, test_X, train_y, test_y = train_test_split(X,y, test_size=0.2)\n",
    "\n",
    "logistic_model = LogisticRegression()"
   ]
  },
  {
   "cell_type": "code",
   "execution_count": null,
   "id": "7697fd98",
   "metadata": {
    "slideshow": {
     "slide_type": "subslide"
    }
   },
   "outputs": [],
   "source": [
    "logistic_model.fit(X_scaled, train_y)"
   ]
  },
  {
   "cell_type": "code",
   "execution_count": null,
   "id": "8fae5edd",
   "metadata": {
    "slideshow": {
     "slide_type": "subslide"
    }
   },
   "outputs": [],
   "source": [
    "score = logistic_model.score(test_X, test_y)\n",
    "\n",
    "print(\"accuracy of logistic regression is\",score)"
   ]
  },
  {
   "cell_type": "code",
   "execution_count": null,
   "id": "499ab094",
   "metadata": {
    "slideshow": {
     "slide_type": "subslide"
    }
   },
   "outputs": [],
   "source": [
    "import eli5\n",
    "from eli5.sklearn import PermutationImportance\n",
    "\n",
    "perm = PermutationImportance(logistic_model, random_state=1).fit(test_X, test_y)\n",
    "eli5.show_weights(perm, feature_names = test_X.columns.tolist())"
   ]
  },
  {
   "cell_type": "code",
   "execution_count": null,
   "id": "4a0d4f4c",
   "metadata": {
    "slideshow": {
     "slide_type": "subslide"
    }
   },
   "outputs": [],
   "source": [
    "important_features = ['diaBP', 'prevalentHyp', 'age', 'heartRate', 'BMI', 'education', 'male', 'totChol', 'sysBP']\n",
    "\n",
    "new_data_df = imp_data_df[important_features]\n",
    "\n",
    "new_train_x = new_data_df\n",
    "new_train_y = y\n",
    "\n",
    "Train_X, Test_X, Train_y, Test_y = train_test_split(new_train_x, new_train_y, test_size=0.2)"
   ]
  },
  {
   "cell_type": "code",
   "execution_count": null,
   "id": "c3de6c17",
   "metadata": {
    "slideshow": {
     "slide_type": "subslide"
    }
   },
   "outputs": [],
   "source": [
    "model = LogisticRegression()\n",
    "\n",
    "params = {\n",
    "    \"max_iter\"          : [30,40,50,100,150,200,],\n",
    "    \"random_state\"      : [1,2,3,4,5,6],\n",
    "    \"n_jobs\"            : [1,2,3,4,5],\n",
    "    \"penalty\"           : [\"l1\", \"l2\", \"elasticnet\", \"none\"],\n",
    "    \"intercept_scaling\" : [1,2,3,4,5],\n",
    "    \"solver\"            : [\"newton-cg\", \"lbfgs\", \"liblinear\", \"sag\", \"saga\"],\n",
    "    \"multi_class\"       : [\"auto\", \"ovr\", \"multinomial\"],\n",
    "    \"verbose\"           : [0,1,2,3,4,5]\n",
    "    }\n",
    "\n",
    "from sklearn.model_selection import RandomizedSearchCV\n",
    "\n",
    "random_search = RandomizedSearchCV(model, param_distributions=params, n_iter=5, cv=5)\n",
    "\n",
    "random_search.fit(Train_X, Train_y)"
   ]
  },
  {
   "cell_type": "code",
   "execution_count": null,
   "id": "ac5e8189",
   "metadata": {
    "slideshow": {
     "slide_type": "subslide"
    }
   },
   "outputs": [],
   "source": [
    "random_search.best_estimator_"
   ]
  },
  {
   "cell_type": "code",
   "execution_count": null,
   "id": "59f5f00c",
   "metadata": {
    "slideshow": {
     "slide_type": "subslide"
    }
   },
   "outputs": [],
   "source": [
    "model = LogisticRegression(max_iter=40, multi_class='multinomial', n_jobs=3,\n",
    "                   random_state=3, solver='newton-cg', verbose=2)\n",
    "\n",
    "model.fit(Train_X, Train_y)\n",
    "\n",
    "score = model.score(Test_X, Test_y)\n",
    "\n",
    "print(\"The accuracy of our model is \", score)"
   ]
  },
  {
   "cell_type": "markdown",
   "id": "3c8aa480",
   "metadata": {
    "slideshow": {
     "slide_type": "slide"
    }
   },
   "source": [
    "<div> <p> <h3> Customer Segmentation using <span style=\"color:#0000A0\"> K-means Clustering </span>. </h3> </p> </div>"
   ]
  },
  {
   "cell_type": "code",
   "execution_count": null,
   "id": "935e31c5",
   "metadata": {
    "slideshow": {
     "slide_type": "subslide"
    }
   },
   "outputs": [],
   "source": [
    "# load the csv data file\n",
    "file_path = \"data/Mall_Customers.csv\"\n",
    "clus_data_df = pd.read_csv(file_path)\n",
    "clus_data_df.head()\n"
   ]
  },
  {
   "cell_type": "code",
   "execution_count": null,
   "id": "73f5b206",
   "metadata": {
    "slideshow": {
     "slide_type": "subslide"
    }
   },
   "outputs": [],
   "source": [
    "#total rows and colums in the dataset\n",
    "clus_data_df.shape"
   ]
  },
  {
   "cell_type": "code",
   "execution_count": null,
   "id": "af649693",
   "metadata": {
    "slideshow": {
     "slide_type": "subslide"
    }
   },
   "outputs": [],
   "source": [
    "#checking not null for features\n",
    "clus_data_df.info()"
   ]
  },
  {
   "cell_type": "code",
   "execution_count": null,
   "id": "29bf26f0",
   "metadata": {
    "slideshow": {
     "slide_type": "subslide"
    }
   },
   "outputs": [],
   "source": [
    "#Verifying missing values\n",
    "clus_data_df.isnull().sum()"
   ]
  },
  {
   "cell_type": "code",
   "execution_count": null,
   "id": "40d9779a",
   "metadata": {
    "slideshow": {
     "slide_type": "subslide"
    }
   },
   "outputs": [],
   "source": [
    "### Feature sleection for the model\n",
    "#Considering only 2 features (Annual income and Spending Score) and no Label available\n",
    "X = clus_data_df.iloc[:, [3,4]].values"
   ]
  },
  {
   "cell_type": "code",
   "execution_count": null,
   "id": "b9de6d8d",
   "metadata": {
    "slideshow": {
     "slide_type": "subslide"
    }
   },
   "outputs": [],
   "source": [
    "#Building the Model\n",
    "#KMeans Algorithm to decide the optimum cluster number , KMeans++ using Elbow Mmethod to figure out K for KMeans\n",
    "from sklearn.cluster import KMeans\n",
    "wcss=[]\n",
    "\n",
    "for i in range(1,11):\n",
    "    kmeans = KMeans(n_clusters= i, init='k-means++', random_state=0)\n",
    "    kmeans.fit(X)\n",
    "    wcss.append(kmeans.inertia_)"
   ]
  },
  {
   "cell_type": "code",
   "execution_count": null,
   "id": "7adb32b1",
   "metadata": {
    "slideshow": {
     "slide_type": "subslide"
    }
   },
   "outputs": [],
   "source": [
    "#Visualizing the ELBOW method to get the optimal value of K \n",
    "plt.plot(range(1,11), wcss)\n",
    "plt.title('The Elbow Method')\n",
    "plt.xlabel('no of clusters')\n",
    "plt.ylabel('wcss')\n",
    "plt.show()"
   ]
  },
  {
   "cell_type": "code",
   "execution_count": null,
   "id": "1e9ee11f",
   "metadata": {
    "slideshow": {
     "slide_type": "subslide"
    }
   },
   "outputs": [],
   "source": [
    "#Model Build\n",
    "kmeansmodel = KMeans(n_clusters= 5, init='k-means++', random_state=0)\n",
    "y_kmeans= kmeansmodel.fit_predict(X)"
   ]
  },
  {
   "cell_type": "code",
   "execution_count": null,
   "id": "b012649a",
   "metadata": {
    "slideshow": {
     "slide_type": "subslide"
    }
   },
   "outputs": [],
   "source": [
    "#Visualizing all the clusters \n",
    "\n",
    "plt.scatter(X[y_kmeans == 0, 0], X[y_kmeans == 0, 1], s = 100, c = 'red', label = 'Cluster 1')\n",
    "plt.scatter(X[y_kmeans == 1, 0], X[y_kmeans == 1, 1], s = 100, c = 'blue', label = 'Cluster 2')\n",
    "plt.scatter(X[y_kmeans == 2, 0], X[y_kmeans == 2, 1], s = 100, c = 'green', label = 'Cluster 3')\n",
    "plt.scatter(X[y_kmeans == 3, 0], X[y_kmeans == 3, 1], s = 100, c = 'cyan', label = 'Cluster 4')\n",
    "plt.scatter(X[y_kmeans == 4, 0], X[y_kmeans == 4, 1], s = 100, c = 'magenta', label = 'Cluster 5')\n",
    "plt.scatter(kmeans.cluster_centers_[:, 0], kmeans.cluster_centers_[:, 1], s = 300, c = 'yellow', label = 'Centroids')\n",
    "plt.title('Clusters of customers')\n",
    "plt.xlabel('Annual Income (k$)')\n",
    "plt.ylabel('Spending Score (1-100)')\n",
    "plt.legend()\n",
    "plt.show()"
   ]
  },
  {
   "cell_type": "code",
   "execution_count": null,
   "id": "80177d79",
   "metadata": {
    "slideshow": {
     "slide_type": "subslide"
    }
   },
   "outputs": [],
   "source": [
    "###Model Interpretation \n",
    "#Cluster 1 (Red Color) -> earning high but spending less\n",
    "#cluster 2 (Blue Colr) -> average in terms of earning and spending \n",
    "#cluster 3 (Green Color) -> earning high and also spending high [TARGET SET]\n",
    "#cluster 4 (cyan Color) -> earning less but spending more\n",
    "#Cluster 5 (magenta Color) -> Earning less , spending less\n",
    "\n",
    "\n",
    "######We can put Cluster 3 into some alerting system where email can be send to them on daily basis as these re easy to converse ######\n",
    "#wherein others we can set like once in a week or once in a month"
   ]
  },
  {
   "cell_type": "markdown",
   "id": "d78ed612",
   "metadata": {
    "slideshow": {
     "slide_type": "slide"
    }
   },
   "source": [
    "<img align=\"centre\" src=\"assets/img/questions.png\" alt=\"ml\" title=\"ml\" width=\"900\" height=\"900\"/>"
   ]
  },
  {
   "cell_type": "markdown",
   "id": "97669769",
   "metadata": {
    "slideshow": {
     "slide_type": "subslide"
    }
   },
   "source": [
    "<img align=\"centre\" src=\"assets/img/contact.png\" alt=\"ml\" title=\"ml\" width=\"900\" height=\"900\"/>"
   ]
  }
 ],
 "metadata": {
  "celltoolbar": "Slideshow",
  "kernelspec": {
   "display_name": "Python 3",
   "language": "python",
   "name": "python3"
  },
  "language_info": {
   "codemirror_mode": {
    "name": "ipython",
    "version": 3
   },
   "file_extension": ".py",
   "mimetype": "text/x-python",
   "name": "python",
   "nbconvert_exporter": "python",
   "pygments_lexer": "ipython3",
   "version": "3.9.2"
  }
 },
 "nbformat": 4,
 "nbformat_minor": 5
}
