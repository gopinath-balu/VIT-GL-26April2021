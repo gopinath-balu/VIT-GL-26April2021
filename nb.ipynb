{
 "cells": [
  {
   "cell_type": "markdown",
   "id": "ba2f6bc5",
   "metadata": {
    "slideshow": {
     "slide_type": "slide"
    }
   },
   "source": [
    "# Hello World!"
   ]
  },
  {
   "cell_type": "markdown",
   "id": "2110a86d",
   "metadata": {
    "slideshow": {
     "slide_type": "slide"
    }
   },
   "source": [
    "## Machine Learning - The Language and Tool of the Future.\n",
    "\n",
    "\n",
    "### &emsp;&emsp;&emsp; Gopinath Balu - Research Engineer\n",
    "### &emsp;&emsp;&emsp; Saama AI Research Lab - Chennai."
   ]
  },
  {
   "cell_type": "markdown",
   "id": "027df730",
   "metadata": {
    "slideshow": {
     "slide_type": "subslide"
    }
   },
   "source": [
    "### A little about myself\n",
    "<img align=\"right\" src=\"assets/img/gopi.jpg\" alt=\"Gopi\" title=\"Gopi\" width=\"250\" height=\"100\" />\n",
    "\n",
    "##### * Proper Chennaite\n",
    "##### * Works as an AI Research Engineer\n",
    "##### * Directly involved in accelarating Pfizer Covid Vaccine trial \n",
    "##### * Reads blog, contributes to open source projects when I'm not working"
   ]
  },
  {
   "cell_type": "code",
   "execution_count": 1,
   "id": "8c73bc13",
   "metadata": {
    "slideshow": {
     "slide_type": "subslide"
    }
   },
   "outputs": [
    {
     "name": "stdout",
     "output_type": "stream",
     "text": [
      "hello world Gopi hehe\n"
     ]
    }
   ],
   "source": [
    "print('hello world Gopi hehe')"
   ]
  },
  {
   "cell_type": "code",
   "execution_count": null,
   "id": "a4453696",
   "metadata": {},
   "outputs": [],
   "source": []
  }
 ],
 "metadata": {
  "celltoolbar": "Slideshow",
  "kernelspec": {
   "display_name": "Python 3",
   "language": "python",
   "name": "python3"
  },
  "language_info": {
   "codemirror_mode": {
    "name": "ipython",
    "version": 3
   },
   "file_extension": ".py",
   "mimetype": "text/x-python",
   "name": "python",
   "nbconvert_exporter": "python",
   "pygments_lexer": "ipython3",
   "version": "3.9.2"
  }
 },
 "nbformat": 4,
 "nbformat_minor": 5
}
