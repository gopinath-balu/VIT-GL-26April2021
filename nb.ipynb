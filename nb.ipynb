{
 "cells": [
  {
   "cell_type": "markdown",
   "id": "ba2f6bc5",
   "metadata": {
    "slideshow": {
     "slide_type": "slide"
    }
   },
   "source": [
    "# Hello World!"
   ]
  },
  {
   "cell_type": "markdown",
   "id": "2110a86d",
   "metadata": {
    "slideshow": {
     "slide_type": "slide"
    }
   },
   "source": [
    "# Machine Learning - The Language and Tool of the Future.\n",
    "\n",
    "\n",
    "### &ensp;&ensp;&ensp;&ensp;&ensp;&ensp;  Gopinath Balu - Research Engineer\n",
    "#### &ensp;&ensp;&ensp;&ensp;&ensp;&ensp; &nbsp;  Saama AI Research Lab - Chennai."
   ]
  },
  {
   "cell_type": "markdown",
   "id": "027df730",
   "metadata": {
    "slideshow": {
     "slide_type": "subslide"
    }
   },
   "source": [
    "### A lil about myself\n",
    "<img align=\"right\" src=\"assets/img/gopi.jpg\" alt=\"Gopi\" title=\"Gopi\" width=\"250\" height=\"200\" />\n",
    "\n",
    "#### &ensp;&ensp;&ensp;&ensp;  * Proper Chennaite\n",
    "#### &ensp;&ensp;&ensp;&ensp;  * Works as an AI Research Engineer\n",
    "#### &ensp;&ensp;&ensp;&ensp;  * Reads blog, contribute to open source projects when I'm not working.\n",
    "\n",
    "\n",
    "#### &ensp;&ensp;&ensp;&ensp;  * Twitter - @thegopieffect"
   ]
  },
  {
   "cell_type": "code",
   "execution_count": null,
   "id": "8c73bc13",
   "metadata": {
    "slideshow": {
     "slide_type": "subslide"
    }
   },
   "outputs": [],
   "source": []
  },
  {
   "cell_type": "code",
   "execution_count": null,
   "id": "a4453696",
   "metadata": {},
   "outputs": [],
   "source": []
  }
 ],
 "metadata": {
  "celltoolbar": "Slideshow",
  "kernelspec": {
   "display_name": "Python 3",
   "language": "python",
   "name": "python3"
  },
  "language_info": {
   "codemirror_mode": {
    "name": "ipython",
    "version": 3
   },
   "file_extension": ".py",
   "mimetype": "text/x-python",
   "name": "python",
   "nbconvert_exporter": "python",
   "pygments_lexer": "ipython3",
   "version": "3.9.2"
  }
 },
 "nbformat": 4,
 "nbformat_minor": 5
}
