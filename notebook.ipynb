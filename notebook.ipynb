{
 "cells": [
  {
   "cell_type": "markdown",
   "id": "6a319c4b",
   "metadata": {
    "slideshow": {
     "slide_type": "slide"
    }
   },
   "source": [
    "# Hello World!"
   ]
  },
  {
   "cell_type": "markdown",
   "id": "2b43a723",
   "metadata": {
    "slideshow": {
     "slide_type": "slide"
    }
   },
   "source": [
    "# Machine Learning - The Language and Tool of the Future.\n",
    "\n",
    "\n",
    "### &ensp;&ensp;&ensp;&ensp;&ensp;&ensp;  Gopinath Balu - Research Engineer\n",
    "#### &ensp;&ensp;&ensp;&ensp;&ensp;&ensp; &nbsp;  Saama AI Research Lab - Chennai."
   ]
  },
  {
   "cell_type": "markdown",
   "id": "ab6b68ad",
   "metadata": {
    "slideshow": {
     "slide_type": "subslide"
    }
   },
   "source": [
    "### A lil about myself\n",
    "<img align=\"right\" src=\"assets/img/gopi.jpg\" alt=\"Gopi\" title=\"Gopi\" width=\"250\" height=\"200\" />\n",
    "\n",
    "#### &ensp;&ensp;&ensp;&ensp;&ensp;&ensp; &nbsp;  * Proper Chennaite\n",
    "#### &ensp;&ensp;&ensp;&ensp;&ensp;&ensp; &nbsp;  * Works as an AI Research Engineer\n",
    "#### &ensp;&ensp;&ensp;&ensp;&ensp;&ensp; &nbsp;  * Reads blog, contribute to open source projects when I'm not working.\n",
    "\n",
    "\n",
    "#### &ensp;&ensp;&ensp;&ensp;&ensp;&ensp; &nbsp;  * Twitter - @thegopieffect"
   ]
  },
  {
   "cell_type": "code",
   "execution_count": null,
   "id": "e394137a",
   "metadata": {
    "slideshow": {
     "slide_type": "subslide"
    }
   },
   "outputs": [],
   "source": []
  },
  {
   "cell_type": "code",
   "execution_count": null,
   "id": "f6bee863",
   "metadata": {},
   "outputs": [],
   "source": []
  }
 ],
 "metadata": {
  "celltoolbar": "Slideshow",
  "kernelspec": {
   "display_name": "Python 3",
   "language": "python",
   "name": "python3"
  },
  "language_info": {
   "codemirror_mode": {
    "name": "ipython",
    "version": 3
   },
   "file_extension": ".py",
   "mimetype": "text/x-python",
   "name": "python",
   "nbconvert_exporter": "python",
   "pygments_lexer": "ipython3",
   "version": "3.9.2"
  }
 },
 "nbformat": 4,
 "nbformat_minor": 5
}
